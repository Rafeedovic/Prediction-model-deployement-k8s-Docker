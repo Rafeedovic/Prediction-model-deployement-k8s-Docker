{
 "cells": [
  {
   "cell_type": "code",
   "execution_count": 1,
   "metadata": {},
   "outputs": [],
   "source": [
    "import joblib\n",
    "import pandas as pd\n",
    "from sklearn.preprocessing import StandardScaler\n",
    "from sklearn.decomposition import PCA\n",
    "import numpy as np\n",
    "from sklearn.preprocessing import OrdinalEncoder\n",
    "import pickle"
   ]
  },
  {
   "cell_type": "code",
   "execution_count": 2,
   "metadata": {},
   "outputs": [],
   "source": [
    "with open('all_models.pkl', 'rb') as f:\n",
    "    all_objects = pickle.load(f)\n",
    "\n",
    "# Accéder aux objets individuels\n",
    "encoding_fuelType = all_objects['encoding_fuelType']\n",
    "encoding_model = all_objects['encoding_model']\n",
    "encoding_transmission = all_objects['encoding_transmission']\n",
    "pca = all_objects['pca_model']\n",
    "scaler = all_objects['scaler_model']\n",
    "xgboost_model = all_objects['xgboost_model']"
   ]
  },
  {
   "cell_type": "code",
   "execution_count": 3,
   "metadata": {},
   "outputs": [],
   "source": [
    "# Exemple de nouvelle donnée (assurez-vous que cette donnée est dans le même format que celle utilisée pour l'entraînement)\n",
    "new_data = {\n",
    "    'model': 'A3', \n",
    "    'year': 2017,     \n",
    "    'transmission': 'Manual', \n",
    "    'mileage': 24655, \n",
    "    'fuelType': 'Diesel',\n",
    "    'tax': 145, \n",
    "    'mpg': 68.9, \n",
    "    'engineSize': 1.6\n",
    "}\n",
    "new_df = pd.DataFrame([new_data])"
   ]
  },
  {
   "cell_type": "code",
   "execution_count": 4,
   "metadata": {},
   "outputs": [],
   "source": [
    "# Encodage des valeurs catégorielles en utilisant les dictionnaires de mappage\n",
    "new_df['model'] = encoding_model.get(new_df['model'].iloc[0], -1)  # Si non trouvé, retourner -1 (valeur par défaut)\n",
    "new_df['transmission'] = encoding_transmission.get(new_df['transmission'].iloc[0], -1)\n",
    "new_df['fuelType'] = encoding_fuelType.get(new_df['fuelType'].iloc[0], -1)"
   ]
  },
  {
   "cell_type": "code",
   "execution_count": 5,
   "metadata": {},
   "outputs": [
    {
     "name": "stdout",
     "output_type": "stream",
     "text": [
      "La valeur décodée est : A1\n"
     ]
    }
   ],
   "source": [
    "# Exemple de valeur encodée\n",
    "encoded_value = 0  # Suppose que \"Toyota\" a été encodé en 0\n",
    "\n",
    "# Décodage en utilisant le dictionnaire\n",
    "decoded_value = list(encoding_model.keys())[list(encoding_model.values()).index(encoded_value)]\n",
    "print(f'La valeur décodée est : {decoded_value}')"
   ]
  },
  {
   "cell_type": "code",
   "execution_count": 6,
   "metadata": {},
   "outputs": [
    {
     "data": {
      "text/html": [
       "<div>\n",
       "<style scoped>\n",
       "    .dataframe tbody tr th:only-of-type {\n",
       "        vertical-align: middle;\n",
       "    }\n",
       "\n",
       "    .dataframe tbody tr th {\n",
       "        vertical-align: top;\n",
       "    }\n",
       "\n",
       "    .dataframe thead th {\n",
       "        text-align: right;\n",
       "    }\n",
       "</style>\n",
       "<table border=\"1\" class=\"dataframe\">\n",
       "  <thead>\n",
       "    <tr style=\"text-align: right;\">\n",
       "      <th></th>\n",
       "      <th>model</th>\n",
       "      <th>year</th>\n",
       "      <th>transmission</th>\n",
       "      <th>mileage</th>\n",
       "      <th>fuelType</th>\n",
       "      <th>tax</th>\n",
       "      <th>mpg</th>\n",
       "      <th>engineSize</th>\n",
       "    </tr>\n",
       "  </thead>\n",
       "  <tbody>\n",
       "    <tr>\n",
       "      <th>0</th>\n",
       "      <td>2</td>\n",
       "      <td>2017</td>\n",
       "      <td>1</td>\n",
       "      <td>24655</td>\n",
       "      <td>0</td>\n",
       "      <td>145</td>\n",
       "      <td>68.9</td>\n",
       "      <td>1.6</td>\n",
       "    </tr>\n",
       "  </tbody>\n",
       "</table>\n",
       "</div>"
      ],
      "text/plain": [
       "   model  year  transmission  mileage  fuelType  tax   mpg  engineSize\n",
       "0      2  2017             1    24655         0  145  68.9         1.6"
      ]
     },
     "execution_count": 6,
     "metadata": {},
     "output_type": "execute_result"
    }
   ],
   "source": [
    "new_df"
   ]
  },
  {
   "cell_type": "code",
   "execution_count": 7,
   "metadata": {},
   "outputs": [],
   "source": [
    "new_df_scaled = scaler.transform(new_df)  # Si vous avez utilisé un scaler\n",
    "new_df_pca = pca.transform(new_df_scaled)  # Si vous avez utilisé PCA"
   ]
  },
  {
   "cell_type": "code",
   "execution_count": 8,
   "metadata": {},
   "outputs": [
    {
     "data": {
      "text/plain": [
       "array([[2.18903688, 0.27074339]])"
      ]
     },
     "execution_count": 8,
     "metadata": {},
     "output_type": "execute_result"
    }
   ],
   "source": [
    "new_df_pca"
   ]
  },
  {
   "cell_type": "code",
   "execution_count": 9,
   "metadata": {},
   "outputs": [
    {
     "name": "stdout",
     "output_type": "stream",
     "text": [
      "Le prix prédit est : 14829.583984375\n"
     ]
    }
   ],
   "source": [
    "# Faire la prédiction\n",
    "predicted_price = xgboost_model.predict(new_df_pca)  # Utilisez ici les données prétraitées\n",
    "\n",
    "print(f'Le prix prédit est : {predicted_price[0]}')"
   ]
  }
 ],
 "metadata": {
  "kernelspec": {
   "display_name": "Python 3",
   "language": "python",
   "name": "python3"
  },
  "language_info": {
   "codemirror_mode": {
    "name": "ipython",
    "version": 3
   },
   "file_extension": ".py",
   "mimetype": "text/x-python",
   "name": "python",
   "nbconvert_exporter": "python",
   "pygments_lexer": "ipython3",
   "version": "3.12.1"
  }
 },
 "nbformat": 4,
 "nbformat_minor": 2
}
